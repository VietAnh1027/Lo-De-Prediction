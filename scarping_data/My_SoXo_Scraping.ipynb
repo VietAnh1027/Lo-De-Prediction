{
  "cells": [
    {
      "cell_type": "code",
      "execution_count": 2,
      "metadata": {
        "id": "58r6HnnGfoo8"
      },
      "outputs": [],
      "source": [
        "import os\n",
        "import json\n",
        "import time\n",
        "from bs4 import BeautifulSoup\n",
        "from selenium import webdriver\n",
        "from selenium.webdriver.chrome.options import Options\n",
        "from selenium.webdriver.chrome.service import Service\n",
        "from datetime import datetime, timedelta"
      ]
    },
    {
      "cell_type": "code",
      "execution_count": 3,
      "metadata": {
        "id": "YnfWoAoVgKk2"
      },
      "outputs": [],
      "source": [
        "def get_lottery_result_mien_nam(date_str):\n",
        "    options = Options()\n",
        "    options.add_argument('--headless')\n",
        "    options.add_argument('--no-sandbox')\n",
        "    options.add_argument('--disable-dev-shm-usage')\n",
        "    options.add_argument('--log-level=3')\n",
        "    options.add_argument('--user-agent=Mozilla/5.0 (Windows NT 10.0; Win64; x64) AppleWebKit/537.36 (KHTML, like Gecko) Chrome/120.0.0.0 Safari/537.36')\n",
        "\n",
        "    service = Service(log_output=os.devnull)\n",
        "    driver = None\n",
        "\n",
        "    try:\n",
        "        driver = webdriver.Chrome(options=options, service=service)\n",
        "        url = f\"https://xoso.com.vn/xsmn-{date_str}.html\"\n",
        "        driver.get(url)\n",
        "        time.sleep(2)\n",
        "\n",
        "        soup = BeautifulSoup(driver.page_source, 'html.parser')\n",
        "        driver.quit()\n",
        "\n",
        "        result_table = soup.find('table', class_='table-result')\n",
        "        if not result_table:\n",
        "            print(f\"[{date_str}] ❌ Không tìm thấy bảng.\")\n",
        "            return None\n",
        "\n",
        "        print(f\"[{date_str}] ✅ Đã tìm thấy bảng!\")\n",
        "\n",
        "        province_headers = result_table.find(\"thead\").find_all(\"th\")[1:]\n",
        "        provinces = [th.get_text(strip=True) for th in province_headers]\n",
        "\n",
        "        all_results = {province: {} for province in provinces}\n",
        "\n",
        "        tbody = result_table.find(\"tbody\")\n",
        "        rows = tbody.find_all(\"tr\")\n",
        "        for row in rows:\n",
        "            prize_name = row.find(\"th\").get_text(strip=True)\n",
        "            cells = row.find_all(\"td\")\n",
        "            for i, cell in enumerate(cells):\n",
        "                spans = cell.find_all(\"span\")\n",
        "                values = [span.get_text(strip=True) for span in spans]\n",
        "                all_results[provinces[i]][prize_name] = values\n",
        "\n",
        "        special_prizes = []\n",
        "        for province in provinces:\n",
        "            special = all_results[province].get(\"ĐB\", [])\n",
        "            special_prizes.extend(special)\n",
        "\n",
        "        final_results = {\n",
        "            \"date\": date_str,\n",
        "            \"special_prize\": special_prizes,\n",
        "            \"all_results\": all_results\n",
        "        }\n",
        "\n",
        "        return final_results\n",
        "\n",
        "    except Exception as e:\n",
        "        print(f\"[{date_str}] ⚠ Lỗi:\", e)\n",
        "        if driver:\n",
        "            driver.quit()\n",
        "        return None"
      ]
    },
    {
      "cell_type": "code",
      "execution_count": 4,
      "metadata": {
        "id": "Uv7VXl95K5kd"
      },
      "outputs": [],
      "source": [
        "def collect_lottery_data_range(date_start, date_end, output_path, overwrite=False):\n",
        "    # Khởi tạo dữ liệu\n",
        "    if overwrite or not os.path.exists(output_path):\n",
        "        all_data = []\n",
        "    else:\n",
        "        with open(output_path, \"r\", encoding=\"utf-8\") as f:\n",
        "            try:\n",
        "                all_data = json.load(f)\n",
        "                if not isinstance(all_data, list):\n",
        "                    all_data = []\n",
        "            except json.JSONDecodeError:\n",
        "                all_data = []\n",
        "\n",
        "    # Tạo khoảng ngày\n",
        "    start_date = datetime.strptime(date_start, \"%d-%m-%Y\")\n",
        "    end_date = datetime.strptime(date_end, \"%d-%m-%Y\")\n",
        "    current_date = start_date\n",
        "\n",
        "    existing_dates = {entry['date'] for entry in all_data}\n",
        "\n",
        "    while current_date <= end_date:\n",
        "        date_str = current_date.strftime(\"%d-%m-%Y\")\n",
        "        if overwrite or date_str not in existing_dates:\n",
        "            result = get_lottery_result_mien_nam(date_str)\n",
        "            if result:\n",
        "                all_data.append(result)\n",
        "        else:\n",
        "            print(f\"[{date_str}] ⏩ Bỏ qua vì đã có trong file.\")\n",
        "        current_date += timedelta(days=1)\n",
        "\n",
        "    # Ghi toàn bộ dữ liệu vào file\n",
        "    with open(output_path, \"w\", encoding=\"utf-8\") as f:\n",
        "        json.dump(all_data, f, ensure_ascii=False, indent=2)\n",
        "        print(f\"\\n✅ Đã lưu toàn bộ {len(all_data)} kết quả vào '{output_path}'\")"
      ]
    },
    {
      "cell_type": "code",
      "execution_count": 5,
      "metadata": {},
      "outputs": [],
      "source": [
        "def collect_lottery_data_auto(output_path, end_date=None, overwrite=False):\n",
        "    \"\"\"\n",
        "    Tự động tìm ngày mới nhất đã có trong file JSON, tiếp tục thu thập từ ngày tiếp theo đến hôm nay hoặc đến end_date (nếu có).\n",
        "    \"\"\"\n",
        "    from datetime import date\n",
        "\n",
        "    # Đọc dữ liệu cũ\n",
        "    if os.path.exists(output_path):\n",
        "        with open(output_path, \"r\", encoding=\"utf-8\") as f:\n",
        "            try:\n",
        "                all_data = json.load(f)\n",
        "                if not isinstance(all_data, list):\n",
        "                    all_data = []\n",
        "            except json.JSONDecodeError:\n",
        "                all_data = []\n",
        "    else:\n",
        "        all_data = []\n",
        "\n",
        "    # Tìm ngày lớn nhất đã có trong file\n",
        "    if all_data:\n",
        "        existing_dates = [datetime.strptime(entry['date'], \"%d-%m-%Y\") for entry in all_data]\n",
        "        last_date = max(existing_dates)\n",
        "        start_date = last_date + timedelta(days=1)\n",
        "    else:\n",
        "        print(\"⚠ File chưa có dữ liệu. Hãy dùng collect_lottery_data_range() để khởi tạo.\")\n",
        "        return\n",
        "\n",
        "    # Ngày kết thúc: mặc định là hôm nay nếu không truyền\n",
        "    if end_date is None:\n",
        "        end_date = datetime.today()\n",
        "    else:\n",
        "        end_date = datetime.strptime(end_date, \"%d-%m-%Y\")\n",
        "\n",
        "    # Không có gì để thu thập\n",
        "    if start_date > end_date:\n",
        "        print(\"⏩ Không có ngày mới để cập nhật.\")\n",
        "        return\n",
        "\n",
        "    # Gọi lại collect_lottery_data_range() với overwrite=False\n",
        "    date_start_str = start_date.strftime(\"%d-%m-%Y\")\n",
        "    date_end_str = end_date.strftime(\"%d-%m-%Y\")\n",
        "    print(f\"📅 Đang thu thập từ {date_start_str} đến {date_end_str}...\")\n",
        "    collect_lottery_data_range(date_start_str, date_end_str, output_path, overwrite=overwrite)\n"
      ]
    },
    {
      "cell_type": "code",
      "execution_count": 6,
      "metadata": {},
      "outputs": [],
      "source": [
        "def collect_lottery_data_range(date_start=None, date_end=None, output_path=\"xoso_mien_nam.json\", overwrite=False):\n",
        "    from datetime import date\n",
        "\n",
        "    # Đọc dữ liệu cũ nếu có\n",
        "    if os.path.exists(output_path) and not overwrite:\n",
        "        with open(output_path, \"r\", encoding=\"utf-8\") as f:\n",
        "            try:\n",
        "                all_data = json.load(f)\n",
        "                if not isinstance(all_data, list):\n",
        "                    all_data = []\n",
        "            except json.JSONDecodeError:\n",
        "                all_data = []\n",
        "    else:\n",
        "        all_data = []\n",
        "\n",
        "    # Nếu không truyền date_start → tự lấy từ file\n",
        "    if date_start is None:\n",
        "        if all_data:\n",
        "            existing_dates = [datetime.strptime(entry[\"date\"], \"%d-%m-%Y\") for entry in all_data]\n",
        "            last_date = max(existing_dates)\n",
        "            start_date = last_date + timedelta(days=1)\n",
        "        else:\n",
        "            raise ValueError(\"⚠️ File rỗng hoặc không tồn tại. Bạn cần truyền date_start để khởi tạo dữ liệu.\")\n",
        "    else:\n",
        "        start_date = datetime.strptime(date_start, \"%d-%m-%Y\")\n",
        "\n",
        "    # Nếu không truyền date_end → mặc định là hôm nay - 1\n",
        "    if date_end is None:\n",
        "        end_date = datetime.today() - timedelta(days=1)\n",
        "    else:\n",
        "        end_date = datetime.strptime(date_end, \"%d-%m-%Y\")\n",
        "\n",
        "    # Kiểm tra logic thời gian\n",
        "    if start_date > end_date:\n",
        "        print(f\"⏩ Không có ngày mới để thu thập. (start: {start_date.date()}, end: {end_date.date()})\")\n",
        "        return\n",
        "\n",
        "    # Chuẩn bị danh sách ngày đã có (để tránh trùng)\n",
        "    existing_dates = {entry[\"date\"] for entry in all_data}\n",
        "\n",
        "    # Bắt đầu thu thập\n",
        "    current_date = start_date\n",
        "    while current_date <= end_date:\n",
        "        date_str = current_date.strftime(\"%d-%m-%Y\")\n",
        "        if overwrite or date_str not in existing_dates:\n",
        "            result = get_lottery_result_mien_nam(date_str)\n",
        "            if result:\n",
        "                all_data.append(result)\n",
        "        else:\n",
        "            print(f\"[{date_str}] ⏩ Đã có dữ liệu. Bỏ qua.\")\n",
        "        current_date += timedelta(days=1)\n",
        "\n",
        "    # Ghi kết quả ra file\n",
        "    with open(output_path, \"w\", encoding=\"utf-8\") as f:\n",
        "        json.dump(all_data, f, ensure_ascii=False, indent=2)\n",
        "        print(f\"\\n✅ Đã lưu {len(all_data)} kết quả vào '{output_path}'\")\n"
      ]
    },
    {
      "cell_type": "code",
      "execution_count": null,
      "metadata": {
        "colab": {
          "background_save": true,
          "base_uri": "https://localhost:8080/"
        },
        "id": "BgRSJ__Og0lE",
        "outputId": "64d3d185-03fa-4266-8eb3-d1278a75937e"
      },
      "outputs": [
        {
          "name": "stdout",
          "output_type": "stream",
          "text": [
            "[30-06-2025] ✅ Đã tìm thấy bảng!\n",
            "\n",
            "✅ Đã lưu 7080 kết quả vào 'D:\\TechByte_LoDe\\Lo-De-Prediction\\xsmn_data.json'\n"
          ]
        }
      ],
      "source": [
        "output_path = r\"D:\\TechByte_LoDe\\Lo-De-Prediction\\xs_data\\xsmn_data.json\"\n",
        "collect_lottery_data_range(output_path=output_path)"
      ]
    },
    {
      "cell_type": "code",
      "execution_count": null,
      "metadata": {},
      "outputs": [
        {
          "name": "stdout",
          "output_type": "stream",
          "text": [
            "[30-06-2025] ✅ Đã tìm thấy bảng!\n",
            "\n",
            "✅ Đã lưu 6866 kết quả vào 'D:\\TechByte_LoDe\\Lo-De-Prediction\\xsmt_data.json'\n"
          ]
        }
      ],
      "source": [
        "output_path_2 = r\"D:\\TechByte_LoDe\\Lo-De-Prediction\\xs_data\\xsmt_data.json\"\n",
        "collect_lottery_data_range(output_path=output_path_2)"
      ]
    },
    {
      "cell_type": "code",
      "execution_count": null,
      "metadata": {},
      "outputs": [],
      "source": []
    }
  ],
  "metadata": {
    "colab": {
      "provenance": []
    },
    "kernelspec": {
      "display_name": "myenv",
      "language": "python",
      "name": "python3"
    },
    "language_info": {
      "codemirror_mode": {
        "name": "ipython",
        "version": 3
      },
      "file_extension": ".py",
      "mimetype": "text/x-python",
      "name": "python",
      "nbconvert_exporter": "python",
      "pygments_lexer": "ipython3",
      "version": "3.10.6"
    }
  },
  "nbformat": 4,
  "nbformat_minor": 0
}
